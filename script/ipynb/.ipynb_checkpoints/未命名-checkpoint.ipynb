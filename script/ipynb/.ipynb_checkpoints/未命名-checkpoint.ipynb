{
 "cells": [
  {
   "cell_type": "code",
   "execution_count": 4,
   "id": "67f3fec5",
   "metadata": {},
   "outputs": [],
   "source": [
    "def remove_hetatm(input_file, output_file):\n",
    "    with open(input_file, 'r') as input_f, open(output_file, 'w') as output_f:\n",
    "        for line in input_f:\n",
    "            if not line.startswith('HETATM'):\n",
    "                output_f.write(line)\n",
    "    \n"
   ]
  },
  {
   "cell_type": "code",
   "execution_count": 5,
   "id": "5f5c0808",
   "metadata": {},
   "outputs": [],
   "source": [
    "# 指定输入文件路径和输出文件路径\n",
    "\n",
    "for pdb in ['2lc9.pdb','3dmv.pdb','7loc.pdb','7lod.pdb','7loe.pdb','7lx6.pdb']:\n",
    "    input_file = f'/Users/caishuo/CBSB3miniproject/data/{pdb}'\n",
    "    output_file = f'/Users/caishuo/CBSB3miniproject/data/main_chain_only/{pdb}'\n",
    "\n",
    "    # 去除HETATM并生成新文件\n",
    "    remove_hetatm(input_file, output_file)"
   ]
  }
 ],
 "metadata": {
  "kernelspec": {
   "display_name": "Python 3",
   "language": "python",
   "name": "python3"
  },
  "language_info": {
   "codemirror_mode": {
    "name": "ipython",
    "version": 3
   },
   "file_extension": ".py",
   "mimetype": "text/x-python",
   "name": "python",
   "nbconvert_exporter": "python",
   "pygments_lexer": "ipython3",
   "version": "3.8.8"
  }
 },
 "nbformat": 4,
 "nbformat_minor": 5
}
