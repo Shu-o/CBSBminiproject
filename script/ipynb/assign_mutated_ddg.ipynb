{
 "cells": [
  {
   "cell_type": "code",
   "execution_count": 2,
   "id": "4de9c9b6",
   "metadata": {},
   "outputs": [],
   "source": [
    "def extract_data(input_file, output_file):\n",
    "    # Read input file and extract data\n",
    "    data_lines = []\n",
    "    with open(input_file, 'r') as f:\n",
    "        data_started = False\n",
    "        for line in f:\n",
    "            if line.startswith(\"Pdb\"):\n",
    "                data_started = True\n",
    "            elif data_started and line.strip():\n",
    "                data_lines.append(line.strip())\n",
    "\n",
    "    # Write extracted data to output file\n",
    "    with open(output_file, 'w') as f:\n",
    "        for line in data_lines:\n",
    "            f.write(line + '\\n')\n",
    "            \n",
    "            "
   ]
  },
  {
   "cell_type": "code",
   "execution_count": 3,
   "id": "4191bb72",
   "metadata": {},
   "outputs": [],
   "source": [
    "input_file = \"/Users/caishuo/CBSB3miniproject/01_mutant_analysis/ala2ser/fxout/Dif_3dmv.fxout\"\n",
    "output_file = \"/Users/caishuo/CBSB3miniproject/01_mutant_analysis/ala2ser/fxout/Dif_3dmv.fxout.modified\"\n",
    "extract_data(input_file, output_file)"
   ]
  },
  {
   "cell_type": "code",
   "execution_count": 18,
   "id": "d6febb4e",
   "metadata": {},
   "outputs": [],
   "source": [
    "def process_files(data_file, mutations_file, output_file):\n",
    "    # 读取数据文件并存储信息\n",
    "    data = {}\n",
    "    with open(data_file, 'r') as file:\n",
    "        for pdb_id, line in enumerate(file, start=1):\n",
    "            line = line.strip().split('\\t')\n",
    "            values = list(map(float, line[1:]))\n",
    "            data[pdb_id] = values\n",
    "\n",
    "    # 读取突变文件并存储信息\n",
    "    mutations = []\n",
    "    with open(mutations_file, 'r') as file:\n",
    "        for line in file:\n",
    "            mutation = line.strip()\n",
    "            mutations.append(mutation)\n",
    "\n",
    "    # 生成输出\n",
    "    output = \"attribute: mutatedDDG\\n\"\n",
    "    output += \"match mode: 1-to-1\\n\"\n",
    "    output += \"recipient: residues\\n\"\n",
    "    for pdb_id, mutation in enumerate(mutations, start=1):\n",
    "        values = data.get(pdb_id)\n",
    "        if values:\n",
    "            percent_exposed = values[0]\n",
    "            output += f\"\\t:{mutation[2:-2]}\\t{percent_exposed}\\n\"\n",
    "\n",
    "    with open(output_file, 'w') as file:\n",
    "        file.write(output)\n",
    "\n"
   ]
  },
  {
   "cell_type": "code",
   "execution_count": 19,
   "id": "cb7894cb",
   "metadata": {},
   "outputs": [],
   "source": [
    "# 指定输入文件路径\n",
    "data_file = \"/Users/caishuo/CBSB3miniproject/01_mutant_analysis/ala2ser/fxout/Dif_3dmv.fxout.modified\"\n",
    "mutations_file = \"/Users/caishuo/CBSB3miniproject/01_mutant_analysis/ala2ser/individual_list.txt\"\n",
    "output_file = \"/Users/caishuo/CBSB3miniproject/01_mutant_analysis/ala2ser/mutated.attr\"\n",
    "\n",
    "# 处理文件并生成输出\n",
    "process_files(data_file, mutations_file, output_file)"
   ]
  },
  {
   "cell_type": "code",
   "execution_count": 20,
   "id": "abe34e33",
   "metadata": {},
   "outputs": [],
   "source": [
    "\n",
    "input_file = \"/Users/caishuo/CBSB3miniproject/01_mutant_analysis/val2thr/fxout/Dif_3dmv.fxout\"\n",
    "output_file = \"/Users/caishuo/CBSB3miniproject/01_mutant_analysis/val2thr/fxout/Dif_3dmv.fxout.modified\"\n",
    "extract_data(input_file, output_file)\n",
    "\n",
    "# 指定输入文件路径\n",
    "data_file = \"/Users/caishuo/CBSB3miniproject/01_mutant_analysis/val2thr/fxout/Dif_3dmv.fxout.modified\"\n",
    "mutations_file = \"/Users/caishuo/CBSB3miniproject/01_mutant_analysis/val2thr/individual_list.txt\"\n",
    "output_file = \"/Users/caishuo/CBSB3miniproject/01_mutant_analysis/val2thr/mutated.attr\"\n",
    "\n",
    "# 处理文件并生成输出\n",
    "process_files(data_file, mutations_file, output_file)"
   ]
  }
 ],
 "metadata": {
  "kernelspec": {
   "display_name": "Python 3",
   "language": "python",
   "name": "python3"
  },
  "language_info": {
   "codemirror_mode": {
    "name": "ipython",
    "version": 3
   },
   "file_extension": ".py",
   "mimetype": "text/x-python",
   "name": "python",
   "nbconvert_exporter": "python",
   "pygments_lexer": "ipython3",
   "version": "3.8.8"
  }
 },
 "nbformat": 4,
 "nbformat_minor": 5
}
