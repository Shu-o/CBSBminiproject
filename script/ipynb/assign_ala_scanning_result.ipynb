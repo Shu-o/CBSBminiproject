{
 "cells": [
  {
   "cell_type": "code",
   "execution_count": 2,
   "id": "053c69fe",
   "metadata": {},
   "outputs": [],
   "source": [
    "input_file = \"input.txt\"\n",
    "output_file = \"output.attr\"\n",
    "\n",
    "# 读取输入文件\n",
    "data = []\n",
    "with open(input_file, 'r') as f:\n",
    "    for line in f:\n",
    "        if line.strip():  # 忽略空行\n",
    "            line = line.strip().split()\n",
    "            residue = line[1]\n",
    "            value = line[-1]\n",
    "            data.append((residue, value))\n",
    "\n",
    "# 写入属性文件\n",
    "with open(output_file, 'w') as f:\n",
    "    f.write(\"attribute: percentExposed\\n\")\n",
    "    f.write(\"match mode: 1-to-1\\n\")\n",
    "    f.write(\"recipient: residues\\n\")\n",
    "    for residue, value in data:\n",
    "        f.write(f\"\\t:{residue}\\t{value}\\n\")"
   ]
  }
 ],
 "metadata": {
  "kernelspec": {
   "display_name": "Python 3",
   "language": "python",
   "name": "python3"
  },
  "language_info": {
   "codemirror_mode": {
    "name": "ipython",
    "version": 3
   },
   "file_extension": ".py",
   "mimetype": "text/x-python",
   "name": "python",
   "nbconvert_exporter": "python",
   "pygments_lexer": "ipython3",
   "version": "3.8.8"
  }
 },
 "nbformat": 4,
 "nbformat_minor": 5
}
